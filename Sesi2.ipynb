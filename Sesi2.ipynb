{
  "nbformat": 4,
  "nbformat_minor": 0,
  "metadata": {
    "colab": {
      "provenance": [],
      "collapsed_sections": [],
      "authorship_tag": "ABX9TyOTyjIQsI7Y0X6ZDHMn/a19",
      "include_colab_link": true
    },
    "kernelspec": {
      "name": "python3",
      "display_name": "Python 3"
    },
    "language_info": {
      "name": "python"
    }
  },
  "cells": [
    {
      "cell_type": "markdown",
      "metadata": {
        "id": "view-in-github",
        "colab_type": "text"
      },
      "source": [
        "<a href=\"https://colab.research.google.com/github/vinball23/H8_3/blob/main/Sesi2.ipynb\" target=\"_parent\"><img src=\"https://colab.research.google.com/assets/colab-badge.svg\" alt=\"Open In Colab\"/></a>"
      ]
    },
    {
      "cell_type": "markdown",
      "source": [
        "**S.2 // Conditions, Control Flow & Looping**\n",
        "\n",
        "\n",
        "---\n",
        "\n",
        "\n"
      ],
      "metadata": {
        "id": "ddyVz53NYA_a"
      }
    },
    {
      "cell_type": "markdown",
      "source": [
        "**Introduction to the if Statement**"
      ],
      "metadata": {
        "id": "0rMppSaOYjXS"
      }
    },
    {
      "cell_type": "code",
      "source": [
        "# if <expr>:\n",
        "#    <statement>\n",
        "    \n",
        "x = 0\n",
        "y = 5\n",
        "if x < y:       #Truthy\n",
        "    print('yes')\n",
        "\n",
        "if y < x:       #Falsy\n",
        "    print('yes')\n",
        "\n",
        "if x:           #Falsy\n",
        "    print('yes')\n",
        "\n",
        "if y:           #Truthy\n",
        "    print('yes')\n",
        "    \n",
        "if 'aul' in 'grault':    #Truthy\n",
        "    print('yes')\n",
        "    \n",
        "if 'quux' in ['foo', 'bar', 'baz']:     #Falsy\n",
        "    print('yes')"
      ],
      "metadata": {
        "id": "UutfsFulYncf"
      },
      "execution_count": null,
      "outputs": []
    },
    {
      "cell_type": "markdown",
      "source": [
        "**Grouping Statements: Indentation and Blocks**"
      ],
      "metadata": {
        "id": "7CLGR2WuY7h6"
      }
    },
    {
      "cell_type": "code",
      "source": [
        "if 'foo' in ['bar', 'baz', 'qux']:\n",
        "    print('Expression was true')\n",
        "    print('Executing statement in suite')\n",
        "    print('...')\n",
        "    print('Done.')\n",
        "    \n",
        "print('After conditional')"
      ],
      "metadata": {
        "id": "LiP0ZHhpZGHT"
      },
      "execution_count": null,
      "outputs": []
    },
    {
      "cell_type": "code",
      "source": [
        "# Does line execute?\n",
        "#                                          Yes    No\n",
        "if 'foo' in ['foo', 'bar', 'baz']:       #  x     \n",
        "    print('Outer condition is true')     #  x\n",
        "    \n",
        "    if 10 > 20:                          #  x\n",
        "        print('Inner condition 1')       #        x\n",
        "    \n",
        "    print('Between inner condition')     #  x\n",
        "    \n",
        "    if 10 < 20:                          #  x\n",
        "        print('Inner condition 2')       #  x\n",
        "    \n",
        "    print('End of outer condition')      #  x\n",
        "print('After outer condition')           #  x"
      ],
      "metadata": {
        "id": "EHwkjLW8ZL7q"
      },
      "execution_count": null,
      "outputs": []
    },
    {
      "cell_type": "markdown",
      "source": [
        "**The else and elif Clauses**"
      ],
      "metadata": {
        "id": "sSZmzAvaZPex"
      }
    },
    {
      "cell_type": "code",
      "source": [
        "x = 20\n",
        "\n",
        "if x < 50:\n",
        "    print('(first suite)')\n",
        "    print('x is small')\n",
        "else:\n",
        "    print('(second suite)')\n",
        "    print('x is large')"
      ],
      "metadata": {
        "id": "VQJ32WaoZU78"
      },
      "execution_count": null,
      "outputs": []
    },
    {
      "cell_type": "code",
      "source": [
        "x = 120\n",
        "\n",
        "if x < 50:\n",
        "    print('(first suite)')\n",
        "    print('x is small')\n",
        "else:\n",
        "    print('(second suite)')\n",
        "    print('x is large')"
      ],
      "metadata": {
        "id": "fIZXqhE6ZY9w"
      },
      "execution_count": null,
      "outputs": []
    },
    {
      "cell_type": "code",
      "source": [
        "hargaBuku = 20000\n",
        "hargaMajalah = 5000\n",
        "uang = 2000\n",
        "\n",
        "if uang > hargaBuku:\n",
        "    print(\"beli buku\")\n",
        "else:\n",
        "    print(\"uang tidak cukup\")"
      ],
      "metadata": {
        "colab": {
          "base_uri": "https://localhost:8080/"
        },
        "id": "PhJ-qW2uZvWT",
        "outputId": "3971de8e-c842-4417-ff62-404d2cfa8eb7"
      },
      "execution_count": null,
      "outputs": [
        {
          "output_type": "stream",
          "name": "stdout",
          "text": [
            "beli buku\n"
          ]
        }
      ]
    },
    {
      "cell_type": "code",
      "source": [
        "name = 'Hacktiv8'\n",
        "if name == 'Fred':\n",
        "    print('Hello Fred')\n",
        "elif name == 'Xander':\n",
        "    print('Hello Xander')\n",
        "elif name == 'Hacktiv8':\n",
        "    print('Hello Hacktiv8')\n",
        "elif name == 'Arnold':\n",
        "    print('Hello Arnold')\n",
        "else:\n",
        "    print(\"I don't know who you are!\")"
      ],
      "metadata": {
        "colab": {
          "base_uri": "https://localhost:8080/"
        },
        "id": "4VJskIYCZ5Da",
        "outputId": "c91250f5-90ca-4a94-c8e3-2b2a7e84de58"
      },
      "execution_count": null,
      "outputs": [
        {
          "output_type": "stream",
          "name": "stdout",
          "text": [
            "Hello Hacktiv8\n"
          ]
        }
      ]
    },
    {
      "cell_type": "code",
      "source": [
        "if 'a' in 'bar':\n",
        "    print('foo')\n",
        "elif 1/0:\n",
        "    print(\"This won't happen\")\n",
        "elif var:\n",
        "    print(\"This won't either\")"
      ],
      "metadata": {
        "colab": {
          "base_uri": "https://localhost:8080/"
        },
        "id": "RsaT--ZmaIMn",
        "outputId": "868819c0-442a-4702-9280-461291a2ac35"
      },
      "execution_count": null,
      "outputs": [
        {
          "output_type": "stream",
          "name": "stdout",
          "text": [
            "foo\n"
          ]
        }
      ]
    },
    {
      "cell_type": "markdown",
      "source": [
        "**One-Line if Statement**"
      ],
      "metadata": {
        "id": "lYQXo_XvaeiS"
      }
    },
    {
      "cell_type": "code",
      "source": [
        "if 'f' in 'foo': print('1'); print('2'); print('3')"
      ],
      "metadata": {
        "colab": {
          "base_uri": "https://localhost:8080/"
        },
        "id": "gCl7lc9vamdY",
        "outputId": "16a9bf74-da95-4d9c-a69a-f4562fb90d0c"
      },
      "execution_count": null,
      "outputs": [
        {
          "output_type": "stream",
          "name": "stdout",
          "text": [
            "1\n",
            "2\n",
            "3\n"
          ]
        }
      ]
    },
    {
      "cell_type": "code",
      "source": [
        "\n",
        "if 'z' in 'foo': print('1'); print('2'); print('3')"
      ],
      "metadata": {
        "id": "xWdTy5CNawNJ"
      },
      "execution_count": null,
      "outputs": []
    },
    {
      "cell_type": "code",
      "source": [
        "x = 3\n",
        "\n",
        "if x == 1: print('foo'); print('bar'); print('baz')\n",
        "elif x == 2: print('qux'); print('quux')\n",
        "else: print('corge'); print('grault')\n"
      ],
      "metadata": {
        "colab": {
          "base_uri": "https://localhost:8080/"
        },
        "id": "0-Fz-6vdazuM",
        "outputId": "a50cffca-7e9e-437a-f5c6-fc307de543ff"
      },
      "execution_count": null,
      "outputs": [
        {
          "output_type": "stream",
          "name": "stdout",
          "text": [
            "corge\n",
            "grault\n"
          ]
        }
      ]
    },
    {
      "cell_type": "code",
      "source": [
        "x = 2\n",
        "\n",
        "if x == 1: print('foo'); print('bar'); print('baz')\n",
        "elif x == 2: print('qux'); print('quux')\n",
        "else: print('corge'); print('grault')"
      ],
      "metadata": {
        "id": "-dY2z1gpbIiy"
      },
      "execution_count": null,
      "outputs": []
    },
    {
      "cell_type": "code",
      "source": [
        "x = 3\n",
        "\n",
        "if x == 1: \n",
        "    print('foo') \n",
        "    print('bar') \n",
        "    print('baz')\n",
        "elif x == 2: \n",
        "    print('qux')\n",
        "    print('quux')\n",
        "else: \n",
        "    print('corge')\n",
        "    print('grault')"
      ],
      "metadata": {
        "id": "Pa0EEpQtbJ9A"
      },
      "execution_count": null,
      "outputs": []
    },
    {
      "cell_type": "markdown",
      "source": [
        "**Conditional Expressions (Python's Ternary Operator)**"
      ],
      "metadata": {
        "id": "H7HR38GHbRIs"
      }
    },
    {
      "cell_type": "code",
      "source": [
        "raining = False\n",
        "print(\"Let's go to the\", 'beach' if not raining else 'library')"
      ],
      "metadata": {
        "colab": {
          "base_uri": "https://localhost:8080/"
        },
        "id": "ZHOaHBhrbWft",
        "outputId": "09e63fa5-de95-45e7-9744-26c46616fae5"
      },
      "execution_count": null,
      "outputs": [
        {
          "output_type": "stream",
          "name": "stdout",
          "text": [
            "Let's go to the library\n"
          ]
        }
      ]
    },
    {
      "cell_type": "code",
      "source": [
        "raining = True\n",
        "print(\"Let's go to the\", 'beach' if not raining else 'library')"
      ],
      "metadata": {
        "id": "EN9LyMwFbjBO"
      },
      "execution_count": null,
      "outputs": []
    },
    {
      "cell_type": "code",
      "source": [
        "age = 12\n",
        "s = 'teen' if age < 21 else 'adult'\n",
        "s"
      ],
      "metadata": {
        "id": "ddtNXt0kbo4p"
      },
      "execution_count": null,
      "outputs": []
    },
    {
      "cell_type": "code",
      "source": [
        "'yes' if ('qux' in ['foo', 'bar', 'bazz']) else 'no'"
      ],
      "metadata": {
        "id": "12LresD0bry3"
      },
      "execution_count": null,
      "outputs": []
    },
    {
      "cell_type": "markdown",
      "source": [
        "**The Python pass Statement**"
      ],
      "metadata": {
        "id": "Vzz-krA_by_x"
      }
    },
    {
      "cell_type": "code",
      "source": [
        "if True:\n",
        "    print('foo')"
      ],
      "metadata": {
        "id": "Vy4ruk0Vb1xV"
      },
      "execution_count": null,
      "outputs": []
    },
    {
      "cell_type": "code",
      "source": [
        "File \"foo.py\", line 3\n",
        "print('foo')"
      ],
      "metadata": {
        "id": "aSlQwNpVb4Hj"
      },
      "execution_count": null,
      "outputs": []
    },
    {
      "cell_type": "code",
      "source": [
        "if True:\n",
        "    pass\n",
        "print('foo')"
      ],
      "metadata": {
        "id": "9taHqgBlb8iG"
      },
      "execution_count": null,
      "outputs": []
    },
    {
      "cell_type": "markdown",
      "source": [
        "**Python \"while\" Loops**"
      ],
      "metadata": {
        "id": "gUx6A-sHb_Og"
      }
    },
    {
      "cell_type": "code",
      "source": [
        "n = 5\n",
        "while n > 0:\n",
        "    n -= 1\n",
        "    print(n)"
      ],
      "metadata": {
        "id": "9Jcbw9x7cDax"
      },
      "execution_count": null,
      "outputs": []
    },
    {
      "cell_type": "code",
      "source": [
        "i = 1\n",
        "while i < 6:\n",
        "    print(i)\n",
        "    i += 1"
      ],
      "metadata": {
        "id": "7ewJoULPcEj2"
      },
      "execution_count": null,
      "outputs": []
    },
    {
      "cell_type": "markdown",
      "source": [
        "**The Python break and continue Statements**"
      ],
      "metadata": {
        "id": "pgjkVQjfcF3y"
      }
    },
    {
      "cell_type": "code",
      "source": [
        "n = 5\n",
        "while n > 0:\n",
        "    n -= 1\n",
        "    if n == 2:\n",
        "        break  # Break Statement\n",
        "    print(n)\n",
        "print('Loop ended.')"
      ],
      "metadata": {
        "id": "Dwhm-hAmcJs_"
      },
      "execution_count": null,
      "outputs": []
    },
    {
      "cell_type": "markdown",
      "source": [
        "**The else Clause**"
      ],
      "metadata": {
        "id": "TwCZ4SxYcM3R"
      }
    },
    {
      "cell_type": "code",
      "source": [
        "n = 5\n",
        "while n > 0:\n",
        "    n -= 1\n",
        "    print(n)\n",
        "else:\n",
        "    print('Loop done.')"
      ],
      "metadata": {
        "id": "gWq3r8dRcPca"
      },
      "execution_count": null,
      "outputs": []
    },
    {
      "cell_type": "code",
      "source": [
        "n = 5\n",
        "while n > 0:\n",
        "    n -= 1\n",
        "    print(n)\n",
        "    if n == 2:\n",
        "        break\n",
        "else:\n",
        "    print('Loop done.')"
      ],
      "metadata": {
        "id": "xidKmhGPcSQY"
      },
      "execution_count": null,
      "outputs": []
    },
    {
      "cell_type": "markdown",
      "source": [
        "**Nested while Loops**"
      ],
      "metadata": {
        "id": "d0dJiG80cZMC"
      }
    },
    {
      "cell_type": "code",
      "source": [
        "age = 20\n",
        "gender = 'F'\n",
        "\n",
        "if age < 18:\n",
        "    if gender == 'M':\n",
        "        print('son')\n",
        "    else:\n",
        "        print('daughter')\n",
        "elif age >= 18 and age < 65:\n",
        "    if gender == 'M':\n",
        "        print('father')\n",
        "    else:\n",
        "        print('mother')\n",
        "else:\n",
        "    if gender == 'M':\n",
        "        print('grandfather')\n",
        "    else:\n",
        "        print('grandmother')\n",
        "        "
      ],
      "metadata": {
        "id": "QsYPm5rXcbcn"
      },
      "execution_count": null,
      "outputs": []
    },
    {
      "cell_type": "code",
      "source": [
        "# loop while dapat dimuat dalam loop while lainnya, seperti berikut ini:\n",
        "\n",
        "a = ['foo', 'bar']\n",
        "\n",
        "while len(a):\n",
        "    print(a.pop(0))\n",
        "    \n",
        "    b = ['baz', 'qux']\n",
        "    \n",
        "    while len(b):\n",
        "        print('>', b.pop(0))"
      ],
      "metadata": {
        "id": "KIrLYX09ceWF"
      },
      "execution_count": null,
      "outputs": []
    },
    {
      "cell_type": "markdown",
      "source": [
        "**One-Line while Loops**"
      ],
      "metadata": {
        "id": "b6IZ9E_9cjeh"
      }
    },
    {
      "cell_type": "code",
      "source": [
        "n = 5\n",
        "while n > 0: n -= 1; print(n)"
      ],
      "metadata": {
        "id": "eDjqSeQ3ciRW"
      },
      "execution_count": null,
      "outputs": []
    },
    {
      "cell_type": "markdown",
      "source": [
        "**The Python for Loop**"
      ],
      "metadata": {
        "id": "02bnGaRxctO7"
      }
    },
    {
      "cell_type": "code",
      "source": [
        "a = ['foo', 'bar', 'baz']\n",
        "for i in a:\n",
        "    print(i)"
      ],
      "metadata": {
        "colab": {
          "base_uri": "https://localhost:8080/"
        },
        "id": "f6TdQrK-c0lI",
        "outputId": "d92036cc-a041-4c51-b8a9-2cafba93344e"
      },
      "execution_count": null,
      "outputs": [
        {
          "output_type": "stream",
          "name": "stdout",
          "text": [
            "foo\n",
            "bar\n",
            "baz\n"
          ]
        }
      ]
    },
    {
      "cell_type": "code",
      "source": [
        "d = {'foo': 1, 'bar':2, 'baz':3}\n",
        "for k in d:\n",
        "    print(k)"
      ],
      "metadata": {
        "colab": {
          "base_uri": "https://localhost:8080/"
        },
        "id": "72bspFcPc9V5",
        "outputId": "d900efef-6c24-4fb1-dac6-5923b27b271f"
      },
      "execution_count": null,
      "outputs": [
        {
          "output_type": "stream",
          "name": "stdout",
          "text": [
            "foo\n",
            "bar\n",
            "baz\n"
          ]
        }
      ]
    },
    {
      "cell_type": "code",
      "source": [
        "for k in d:\n",
        "    print(d[k])"
      ],
      "metadata": {
        "colab": {
          "base_uri": "https://localhost:8080/"
        },
        "id": "bF0CX1g1c_RC",
        "outputId": "33f01710-7289-421a-dadf-44704086553c"
      },
      "execution_count": null,
      "outputs": [
        {
          "output_type": "stream",
          "name": "stdout",
          "text": [
            "1\n",
            "2\n",
            "3\n"
          ]
        }
      ]
    },
    {
      "cell_type": "code",
      "source": [
        "for k in d.values():\n",
        "    print(k)"
      ],
      "metadata": {
        "id": "gpA7srjfc_3m"
      },
      "execution_count": null,
      "outputs": []
    },
    {
      "cell_type": "code",
      "source": [
        "for k, v in d.items():\n",
        "    print(k, \":\", v)\n",
        "    print('ok')"
      ],
      "metadata": {
        "id": "otWX1i2edDEQ"
      },
      "execution_count": null,
      "outputs": []
    }
  ]
}